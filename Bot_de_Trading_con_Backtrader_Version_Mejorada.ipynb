{
  "nbformat": 4,
  "nbformat_minor": 0,
  "metadata": {
    "colab": {
      "provenance": [],
      "name": "Bot de Trading con Backtrader- Version Mejorada",
      "authorship_tag": "ABX9TyNBk73iMRg2rFvkzipKvCnU",
      "include_colab_link": true
    },
    "kernelspec": {
      "name": "python3",
      "display_name": "Python 3"
    },
    "language_info": {
      "name": "python"
    }
  },
  "cells": [
    {
      "cell_type": "markdown",
      "metadata": {
        "id": "view-in-github",
        "colab_type": "text"
      },
      "source": [
        "<a href=\"https://colab.research.google.com/github/Gabrielghj/Bot-de-Trading-con-Backtrader---Versi-n-Mejorada/blob/main/Bot_de_Trading_con_Backtrader_Version_Mejorada.ipynb\" target=\"_parent\"><img src=\"https://colab.research.google.com/assets/colab-badge.svg\" alt=\"Open In Colab\"/></a>"
      ]
    },
    {
      "cell_type": "code",
      "source": [
        "# Instalar librerías necesarias\n",
        "!pip install backtrader yfinance"
      ],
      "metadata": {
        "colab": {
          "base_uri": "https://localhost:8080/"
        },
        "id": "g0QzXzgVJ_fu",
        "outputId": "6ed3ffec-140e-4a02-dcc9-f50804b22586"
      },
      "execution_count": 1,
      "outputs": [
        {
          "output_type": "stream",
          "name": "stdout",
          "text": [
            "Collecting backtrader\n",
            "  Downloading backtrader-1.9.78.123-py2.py3-none-any.whl.metadata (6.8 kB)\n",
            "Requirement already satisfied: yfinance in /usr/local/lib/python3.11/dist-packages (0.2.54)\n",
            "Requirement already satisfied: pandas>=1.3.0 in /usr/local/lib/python3.11/dist-packages (from yfinance) (2.2.2)\n",
            "Requirement already satisfied: numpy>=1.16.5 in /usr/local/lib/python3.11/dist-packages (from yfinance) (2.0.2)\n",
            "Requirement already satisfied: requests>=2.31 in /usr/local/lib/python3.11/dist-packages (from yfinance) (2.32.3)\n",
            "Requirement already satisfied: multitasking>=0.0.7 in /usr/local/lib/python3.11/dist-packages (from yfinance) (0.0.11)\n",
            "Requirement already satisfied: platformdirs>=2.0.0 in /usr/local/lib/python3.11/dist-packages (from yfinance) (4.3.6)\n",
            "Requirement already satisfied: pytz>=2022.5 in /usr/local/lib/python3.11/dist-packages (from yfinance) (2025.1)\n",
            "Requirement already satisfied: frozendict>=2.3.4 in /usr/local/lib/python3.11/dist-packages (from yfinance) (2.4.6)\n",
            "Requirement already satisfied: peewee>=3.16.2 in /usr/local/lib/python3.11/dist-packages (from yfinance) (3.17.9)\n",
            "Requirement already satisfied: beautifulsoup4>=4.11.1 in /usr/local/lib/python3.11/dist-packages (from yfinance) (4.13.3)\n",
            "Requirement already satisfied: soupsieve>1.2 in /usr/local/lib/python3.11/dist-packages (from beautifulsoup4>=4.11.1->yfinance) (2.6)\n",
            "Requirement already satisfied: typing-extensions>=4.0.0 in /usr/local/lib/python3.11/dist-packages (from beautifulsoup4>=4.11.1->yfinance) (4.12.2)\n",
            "Requirement already satisfied: python-dateutil>=2.8.2 in /usr/local/lib/python3.11/dist-packages (from pandas>=1.3.0->yfinance) (2.8.2)\n",
            "Requirement already satisfied: tzdata>=2022.7 in /usr/local/lib/python3.11/dist-packages (from pandas>=1.3.0->yfinance) (2025.1)\n",
            "Requirement already satisfied: charset-normalizer<4,>=2 in /usr/local/lib/python3.11/dist-packages (from requests>=2.31->yfinance) (3.4.1)\n",
            "Requirement already satisfied: idna<4,>=2.5 in /usr/local/lib/python3.11/dist-packages (from requests>=2.31->yfinance) (3.10)\n",
            "Requirement already satisfied: urllib3<3,>=1.21.1 in /usr/local/lib/python3.11/dist-packages (from requests>=2.31->yfinance) (2.3.0)\n",
            "Requirement already satisfied: certifi>=2017.4.17 in /usr/local/lib/python3.11/dist-packages (from requests>=2.31->yfinance) (2025.1.31)\n",
            "Requirement already satisfied: six>=1.5 in /usr/local/lib/python3.11/dist-packages (from python-dateutil>=2.8.2->pandas>=1.3.0->yfinance) (1.17.0)\n",
            "Downloading backtrader-1.9.78.123-py2.py3-none-any.whl (419 kB)\n",
            "\u001b[?25l   \u001b[90m━━━━━━━━━━━━━━━━━━━━━━━━━━━━━━━━━━━━━━━━\u001b[0m \u001b[32m0.0/419.5 kB\u001b[0m \u001b[31m?\u001b[0m eta \u001b[36m-:--:--\u001b[0m\r\u001b[2K   \u001b[91m━━━━━━━━━━━━━━━━━━━━━━━━━━━━━━━━\u001b[0m\u001b[90m╺\u001b[0m\u001b[90m━━━━━━━\u001b[0m \u001b[32m337.9/419.5 kB\u001b[0m \u001b[31m9.4 MB/s\u001b[0m eta \u001b[36m0:00:01\u001b[0m\r\u001b[2K   \u001b[90m━━━━━━━━━━━━━━━━━━━━━━━━━━━━━━━━━━━━━━━━\u001b[0m \u001b[32m419.5/419.5 kB\u001b[0m \u001b[31m7.1 MB/s\u001b[0m eta \u001b[36m0:00:00\u001b[0m\n",
            "\u001b[?25hInstalling collected packages: backtrader\n",
            "Successfully installed backtrader-1.9.78.123\n"
          ]
        }
      ]
    },
    {
      "cell_type": "code",
      "source": [
        "#import backtrader as bt\n",
        "import yfinance as yf\n",
        "import pandas as pd"
      ],
      "metadata": {
        "id": "yRAbEOykJCcl"
      },
      "execution_count": 2,
      "outputs": []
    },
    {
      "cell_type": "code",
      "source": [
        "# Descargar datos históricos de Bitcoin desde Yahoo Finance\n",
        "ticker = \"BTC-USD\"\n",
        "data = yf.download(ticker, start=\"2023-01-01\", end=\"2024-01-01\")"
      ],
      "metadata": {
        "id": "RE53JRExJK1x",
        "colab": {
          "base_uri": "https://localhost:8080/"
        },
        "outputId": "b4404b43-bc50-492b-a232-242b98245989"
      },
      "execution_count": 3,
      "outputs": [
        {
          "output_type": "stream",
          "name": "stdout",
          "text": [
            "YF.download() has changed argument auto_adjust default to True\n"
          ]
        },
        {
          "output_type": "stream",
          "name": "stderr",
          "text": [
            "\r[*********************100%***********************]  1 of 1 completed\n"
          ]
        }
      ]
    },
    {
      "cell_type": "code",
      "source": [
        "# Mostrar las primeras filas de los datos para asegurarnos que se descargaron correctamente\n",
        "print(data.head())"
      ],
      "metadata": {
        "id": "473fb0Y-JO2R",
        "colab": {
          "base_uri": "https://localhost:8080/"
        },
        "outputId": "dba1c71c-9177-4f73-ba20-1d6bfbd3af31"
      },
      "execution_count": 4,
      "outputs": [
        {
          "output_type": "stream",
          "name": "stdout",
          "text": [
            "Price              Close          High           Low          Open  \\\n",
            "Ticker           BTC-USD       BTC-USD       BTC-USD       BTC-USD   \n",
            "Date                                                                 \n",
            "2023-01-01  16625.080078  16630.439453  16521.234375  16547.914062   \n",
            "2023-01-02  16688.470703  16759.343750  16572.228516  16625.509766   \n",
            "2023-01-03  16679.857422  16760.447266  16622.371094  16688.847656   \n",
            "2023-01-04  16863.238281  16964.585938  16667.763672  16680.205078   \n",
            "2023-01-05  16836.736328  16884.021484  16790.283203  16863.472656   \n",
            "\n",
            "Price            Volume  \n",
            "Ticker          BTC-USD  \n",
            "Date                     \n",
            "2023-01-01   9244361700  \n",
            "2023-01-02  12097775227  \n",
            "2023-01-03  13903079207  \n",
            "2023-01-04  18421743322  \n",
            "2023-01-05  13692758566  \n"
          ]
        }
      ]
    },
    {
      "cell_type": "code",
      "source": [
        "# Guardar en CSV para simular la lectura desde un archivo (opcional)\n",
        "data.to_csv(\"btc_data.csv\")"
      ],
      "metadata": {
        "id": "vkajPWUJJSd4"
      },
      "execution_count": 5,
      "outputs": []
    },
    {
      "cell_type": "code",
      "source": [
        "# Crear un feed de datos para Backtrader\n",
        "data_feed = bt.feeds.PandasData(dataname=data)"
      ],
      "metadata": {
        "id": "3ODGaGWpJV6Z",
        "colab": {
          "base_uri": "https://localhost:8080/",
          "height": 159
        },
        "outputId": "55f5ec08-de49-4a46-df15-caa656e23106"
      },
      "execution_count": 6,
      "outputs": [
        {
          "output_type": "error",
          "ename": "NameError",
          "evalue": "name 'bt' is not defined",
          "traceback": [
            "\u001b[0;31m---------------------------------------------------------------------------\u001b[0m",
            "\u001b[0;31mNameError\u001b[0m                                 Traceback (most recent call last)",
            "\u001b[0;32m<ipython-input-6-a07e3ad50839>\u001b[0m in \u001b[0;36m<cell line: 0>\u001b[0;34m()\u001b[0m\n\u001b[1;32m      1\u001b[0m \u001b[0;31m# Crear un feed de datos para Backtrader\u001b[0m\u001b[0;34m\u001b[0m\u001b[0;34m\u001b[0m\u001b[0m\n\u001b[0;32m----> 2\u001b[0;31m \u001b[0mdata_feed\u001b[0m \u001b[0;34m=\u001b[0m \u001b[0mbt\u001b[0m\u001b[0;34m.\u001b[0m\u001b[0mfeeds\u001b[0m\u001b[0;34m.\u001b[0m\u001b[0mPandasData\u001b[0m\u001b[0;34m(\u001b[0m\u001b[0mdataname\u001b[0m\u001b[0;34m=\u001b[0m\u001b[0mdata\u001b[0m\u001b[0;34m)\u001b[0m\u001b[0;34m\u001b[0m\u001b[0;34m\u001b[0m\u001b[0m\n\u001b[0m",
            "\u001b[0;31mNameError\u001b[0m: name 'bt' is not defined"
          ]
        }
      ]
    },
    {
      "cell_type": "code",
      "source": [
        "# Crear el cerebro de Backtrader\n",
        "cerebro = bt.Cerebro()\n",
        "cerebro.adddata(data_feed)"
      ],
      "metadata": {
        "id": "g4_Ee9z_JYpZ"
      },
      "execution_count": null,
      "outputs": []
    },
    {
      "cell_type": "code",
      "source": [
        "# Configurar el capital inicial\n",
        "cerebro.broker.setcash(10000.0)"
      ],
      "metadata": {
        "id": "9YcTEN0mJbI4"
      },
      "execution_count": null,
      "outputs": []
    },
    {
      "cell_type": "code",
      "source": [
        "# Configurar el tamaño de la posición\n",
        "cerebro.addsizer(bt.sizers.FixedSize, stake=1)"
      ],
      "metadata": {
        "id": "6g5zJxPOJdPp"
      },
      "execution_count": null,
      "outputs": []
    },
    {
      "cell_type": "code",
      "source": [
        "# Configurar la comisión por operación\n",
        "cerebro.broker.setcommission(commission=0.001)"
      ],
      "metadata": {
        "id": "cm6cDVQLJfkC"
      },
      "execution_count": null,
      "outputs": []
    },
    {
      "cell_type": "code",
      "source": [
        "# Definir estrategia con RSI y Media Móvil\n",
        "class RSIMovingAverageStrategy(bt.Strategy):\n",
        "    def __init__(self):\n",
        "        self.rsi = bt.indicators.RSI_SMA(self.data.close, period=14)\n",
        "        self.sma = bt.indicators.SimpleMovingAverage(self.data.close, period=50)\n",
        "        self.position_open = False\n",
        "\n",
        "    def next(self):\n",
        "        if not self.position_open and self.rsi[0] < 30 and self.data.close[0] > self.sma[0]:\n",
        "            self.buy()\n",
        "            self.position_open = True\n",
        "            print(f\"Compra a {self.data.close[0]} en {self.data.datetime.date(0)}\")\n",
        "        elif self.position_open and self.rsi[0] > 70:\n",
        "            self.sell()\n",
        "            self.position_open = False\n",
        "            print(f\"Venta a {self.data.close[0]} en {self.data.datetime.date(0)}\")"
      ],
      "metadata": {
        "id": "honBG7vQJim5"
      },
      "execution_count": null,
      "outputs": []
    },
    {
      "cell_type": "code",
      "source": [
        "# Agregar la estrategia\n",
        "cerebro.addstrategy(RSIMovingAverageStrategy)"
      ],
      "metadata": {
        "id": "PSN5WlC0JlgY"
      },
      "execution_count": null,
      "outputs": []
    },
    {
      "cell_type": "code",
      "source": [
        "# Ejecutar la estrategia\n",
        "cerebro.run()"
      ],
      "metadata": {
        "id": "kJR-djTVJoIo"
      },
      "execution_count": null,
      "outputs": []
    },
    {
      "cell_type": "code",
      "source": [
        "# Mostrar el valor final del portafolio\n",
        "print(f'Valor final del portafolio: {cerebro.broker.getvalue()}')"
      ],
      "metadata": {
        "id": "R-3jRJAdJqIR"
      },
      "execution_count": null,
      "outputs": []
    },
    {
      "cell_type": "code",
      "source": [
        "# Graficar los resultados\n",
        "cerebro.plot()"
      ],
      "metadata": {
        "id": "OSzdRPZNJsbx"
      },
      "execution_count": null,
      "outputs": []
    }
  ]
}